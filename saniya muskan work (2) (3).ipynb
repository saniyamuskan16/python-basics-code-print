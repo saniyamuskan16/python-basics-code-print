{
 "cells": [
  {
   "cell_type": "code",
   "execution_count": 1,
   "id": "ce3bc4e2-3259-4ba0-92d6-9f7bb014db87",
   "metadata": {},
   "outputs": [
    {
     "data": {
      "text/plain": [
       "20"
      ]
     },
     "execution_count": 1,
     "metadata": {},
     "output_type": "execute_result"
    }
   ],
   "source": [
    "a=10\n",
    "b=20\n",
    "a\n",
    "b"
   ]
  },
  {
   "cell_type": "code",
   "execution_count": 2,
   "id": "3f2ef5e2-9693-4b90-a1ee-460625b082f8",
   "metadata": {},
   "outputs": [
    {
     "name": "stdout",
     "output_type": "stream",
     "text": [
      "10\n",
      "20\n"
     ]
    }
   ],
   "source": [
    "a=10\n",
    "b=20\n",
    "print(a)\n",
    "print(b)"
   ]
  },
  {
   "cell_type": "code",
   "execution_count": 3,
   "id": "78f69ab7-0e7b-49ac-96fb-6a54e83d78d2",
   "metadata": {},
   "outputs": [
    {
     "name": "stdout",
     "output_type": "stream",
     "text": [
      "40\n"
     ]
    }
   ],
   "source": [
    "num1=20\n",
    "num2=20\n",
    "add=num1+num2\n",
    "print(add)"
   ]
  },
  {
   "cell_type": "markdown",
   "id": "b89f9283-6219-4849-bf27-aff93764747a",
   "metadata": {},
   "source": [
    "**PRINT RESULT WITH STRING**"
   ]
  },
  {
   "cell_type": "code",
   "execution_count": 4,
   "id": "5746dfaa-c066-4b7a-b884-a7acfcf2f674",
   "metadata": {},
   "outputs": [
    {
     "name": "stdout",
     "output_type": "stream",
     "text": [
      "the addition of 20 and 30 is= 50\n"
     ]
    }
   ],
   "source": [
    "num1=20\n",
    "num2=30\n",
    "add=num1+num2\n",
    "print('the addition of' ,num1,'and',num2, 'is=',add)"
   ]
  },
  {
   "cell_type": "code",
   "execution_count": 8,
   "id": "5627bb9f-4db9-434c-aaf5-3564612b0c32",
   "metadata": {},
   "outputs": [],
   "source": [
    "name='saniya'\n",
    "age=20\n",
    "city='hyd'"
   ]
  },
  {
   "cell_type": "code",
   "execution_count": 10,
   "id": "0d84849e-6cb9-416d-a607-7a8a313ad726",
   "metadata": {},
   "outputs": [
    {
     "name": "stdout",
     "output_type": "stream",
     "text": [
      "my name is saniya and i am 20 years old from hyd\n"
     ]
    }
   ],
   "source": [
    "print('my name is',name,'and i am',age,'years old from', city)"
   ]
  },
  {
   "cell_type": "markdown",
   "id": "5c750d4f-e5c3-43de-86d4-d035f4bfa891",
   "metadata": {},
   "source": [
    "**PRINT FORMAT METHOD**"
   ]
  },
  {
   "cell_type": "code",
   "execution_count": 11,
   "id": "8ba12d11-4261-47e5-9b47-43a8b7485ffd",
   "metadata": {},
   "outputs": [
    {
     "name": "stdout",
     "output_type": "stream",
     "text": [
      "the addition of20 and30\n"
     ]
    }
   ],
   "source": [
    "num1=20\n",
    "num2=30\n",
    "add=num1+num2\n",
    "print('the addition of{} and{}'.format(num1,num2,add))"
   ]
  },
  {
   "cell_type": "code",
   "execution_count": 24,
   "id": "ccb4a367-7f49-4e00-9580-d0ce0e0d0a7c",
   "metadata": {},
   "outputs": [
    {
     "name": "stdout",
     "output_type": "stream",
     "text": [
      "the avg of100, 25 and 3333 is= 1152.6666666666667 or 1152.67\n"
     ]
    }
   ],
   "source": [
    "num1=100\n",
    "num2=25\n",
    "num3=3333\n",
    "avg=(num1+num2+num3)/3#\n",
    "avg1=round((num1+num2+num3)/3,2)\n",
    "print('the avg of{}, {} and {} is= {} or {}'.format(num1,num2,num3,avg,avg1))"
   ]
  },
  {
   "cell_type": "code",
   "execution_count": 25,
   "id": "40e3fa85-259a-45be-92b7-b1fc83a91057",
   "metadata": {},
   "outputs": [
    {
     "data": {
      "text/plain": [
       "1152.67"
      ]
     },
     "execution_count": 25,
     "metadata": {},
     "output_type": "execute_result"
    }
   ],
   "source": [
    "round(avg,2) #round of till 4 digit after decimal"
   ]
  },
  {
   "cell_type": "markdown",
   "id": "a81af697-aa5f-49b1-98d7-fba91a69d622",
   "metadata": {},
   "source": [
    "**SHORT FORMS (F STRING METHOD)**"
   ]
  },
  {
   "cell_type": "code",
   "execution_count": 26,
   "id": "efec8dcf-d8c5-43ed-be30-997f25ac9c25",
   "metadata": {},
   "outputs": [
    {
     "name": "stdout",
     "output_type": "stream",
     "text": [
      "the addition of 20 and 30 is=50\n"
     ]
    }
   ],
   "source": [
    "num1=20\n",
    "num2=30\n",
    "add=num1+num2\n",
    "print(f'the addition of {num1} and {num2} is={add}')"
   ]
  },
  {
   "cell_type": "code",
   "execution_count": 28,
   "id": "8d949db0-fc7c-4410-ac8b-3e17c6fa063a",
   "metadata": {},
   "outputs": [
    {
     "name": "stdout",
     "output_type": "stream",
     "text": [
      "hello my name is saniya, and iam 20 year old, from hyd.\n"
     ]
    }
   ],
   "source": [
    "name='saniya'\n",
    "age=20\n",
    "city=('hyd')\n",
    "print(f'hello my name is {name}, and iam {age} year old, from {city}.')"
   ]
  },
  {
   "cell_type": "code",
   "execution_count": 32,
   "id": "da374e7a-e806-4ac6-9ab6-e5edbefd5499",
   "metadata": {},
   "outputs": [
    {
     "name": "stdout",
     "output_type": "stream",
     "text": [
      "the average of 100, 25and 333 is =152.67\n"
     ]
    }
   ],
   "source": [
    "num4=100\n",
    "num5=25\n",
    "num6=333\n",
    "avg=round((num4+num5+num6)/3,2) \n",
    "print(f'the average of {num4}, {num5}and {num6} is ={avg}')"
   ]
  },
  {
   "cell_type": "markdown",
   "id": "49a4cfe9-679e-4eae-9b7b-f674432e91d5",
   "metadata": {},
   "source": [
    "**combining all**"
   ]
  },
  {
   "cell_type": "code",
   "execution_count": 33,
   "id": "5b52d5b4-6df8-4a4e-9ff4-85c2e1dab550",
   "metadata": {},
   "outputs": [
    {
     "name": "stdout",
     "output_type": "stream",
     "text": [
      "the addition of 10 and 20 is= 30\n",
      "the adddition of10 and 20 is =30\n",
      "the addition of 10 and 20 is=30\n"
     ]
    }
   ],
   "source": [
    "num1=10\n",
    "num2=20\n",
    "add = num1+num2\n",
    "print('the addition of', num1, 'and',num2, 'is=',add)\n",
    "print('the adddition of{} and {} is ={}'. format(num1,num2,add))\n",
    "print(f'the addition of {num1} and {num2} is={add}')"
   ]
  },
  {
   "cell_type": "markdown",
   "id": "aad5daf4-28a0-41ba-910e-0a85f675b96a",
   "metadata": {},
   "source": [
    "**END STATEMENT**"
   ]
  },
  {
   "cell_type": "code",
   "execution_count": 34,
   "id": "cd1d8adf-7644-43b4-bf57-e488553b2ef2",
   "metadata": {},
   "outputs": [
    {
     "name": "stdout",
     "output_type": "stream",
     "text": [
      "hello\n",
      "good morning\n"
     ]
    }
   ],
   "source": [
    "print('hello')\n",
    "print('good morning')"
   ]
  },
  {
   "cell_type": "markdown",
   "id": "151ec7ba-443c-44c2-91e9-e4fbe9fb2ad8",
   "metadata": {},
   "source": [
    "**now using end statemnt tht joint line from end of one string to starting of other strng**"
   ]
  },
  {
   "cell_type": "code",
   "execution_count": 36,
   "id": "5ec6d971-be78-4624-949a-cd218c18aa0b",
   "metadata": {},
   "outputs": [
    {
     "name": "stdout",
     "output_type": "stream",
     "text": [
      "hello world good day\n"
     ]
    }
   ],
   "source": [
    "print('hello ',end='')\n",
    "print('world good day')"
   ]
  },
  {
   "cell_type": "markdown",
   "id": "84357dac-a56c-46ef-abe1-53844bb34f3b",
   "metadata": {},
   "source": [
    "**SEPARATOR**"
   ]
  },
  {
   "cell_type": "code",
   "execution_count": null,
   "id": "50a36409-ad00-4de4-b90d-63925dcbe0e1",
   "metadata": {},
   "outputs": [],
   "source": [
    "*HERE ONE PRINT STATEMNT ONLY WE USE"
   ]
  },
  {
   "cell_type": "code",
   "execution_count": null,
   "id": "fb0ea315-2f3c-4040-aef7-74f9176dd115",
   "metadata": {},
   "outputs": [],
   "source": [
    "*INSIDE ONE PRINT STATEMNT WE HAVE MULTIPLE VALUES"
   ]
  },
  {
   "cell_type": "code",
   "execution_count": null,
   "id": "7f7a3b1c-282c-4b74-8e22-3a7b9693cf2a",
   "metadata": {},
   "outputs": [],
   "source": [
    "*WE WANT TO SEPARATE THESE MULTIPLE VALUES WITH ANYTHING"
   ]
  },
  {
   "cell_type": "code",
   "execution_count": 39,
   "id": "bfb8c7ee-7ca7-4bc6-9731-d7b9db9396eb",
   "metadata": {},
   "outputs": [
    {
     "name": "stdout",
     "output_type": "stream",
     "text": [
      "hello--->hai--->how are you\n"
     ]
    }
   ],
   "source": [
    "print('hello','hai','how are you',sep='--->')"
   ]
  },
  {
   "cell_type": "code",
   "execution_count": 40,
   "id": "114ac5fa-79ed-4c23-8aa0-f32149ee7e23",
   "metadata": {},
   "outputs": [
    {
     "name": "stdout",
     "output_type": "stream",
     "text": [
      "hello!!hai!!how are you\n"
     ]
    }
   ],
   "source": [
    "print('hello','hai','how are you',sep='!!')"
   ]
  },
  {
   "cell_type": "code",
   "execution_count": 44,
   "id": "52ac1965-4fc8-4897-ad1c-9d52ffe2bb45",
   "metadata": {},
   "outputs": [
    {
     "name": "stdout",
     "output_type": "stream",
     "text": [
      "hello hai how are you\n"
     ]
    }
   ],
   "source": [
    "print('hello','hai','how are you',sep=' ')"
   ]
  },
  {
   "cell_type": "code",
   "execution_count": 45,
   "id": "88a743ba-e4ca-4a8a-8ee4-d6e8055824a8",
   "metadata": {},
   "outputs": [
    {
     "name": "stdout",
     "output_type": "stream",
     "text": [
      "3 .\n"
     ]
    }
   ],
   "source": [
    "print(3,'.')"
   ]
  },
  {
   "cell_type": "markdown",
   "id": "8cf8e635-56df-40a5-aca0-f8c20682c0f0",
   "metadata": {},
   "source": [
    "print(3,'.',sep='')"
   ]
  },
  {
   "cell_type": "code",
   "execution_count": 48,
   "id": "28bd1a4d-949a-4501-91df-be80fd1f6d4d",
   "metadata": {},
   "outputs": [
    {
     "name": "stdout",
     "output_type": "stream",
     "text": [
      "1 2 3.\n"
     ]
    }
   ],
   "source": [
    "print(1,2,end=' ')\n",
    "print(3,'.',sep='')"
   ]
  },
  {
   "cell_type": "markdown",
   "id": "51983fb8-0a6b-4629-83d7-fcf3018f271d",
   "metadata": {},
   "source": [
    "**PYTHON TUTORIAL**"
   ]
  },
  {
   "cell_type": "code",
   "execution_count": 49,
   "id": "8d67cdd2-a730-4b0c-be46-0acccfa568fe",
   "metadata": {},
   "outputs": [],
   "source": [
    "import sys\n",
    "import keyword\n",
    "import operator\n",
    "from datetime import datetime\n",
    "import os"
   ]
  },
  {
   "cell_type": "markdown",
   "id": "199e96f5-7279-4838-a4c7-cb9c8545dfd6",
   "metadata": {},
   "source": [
    "**KEYWORDS WHICH ARE RESERVED CANT BE USE AS IDENTIFIER**"
   ]
  },
  {
   "cell_type": "code",
   "execution_count": 50,
   "id": "a0f95834-c296-44ed-a042-1d0dc9dd6220",
   "metadata": {},
   "outputs": [
    {
     "name": "stdout",
     "output_type": "stream",
     "text": [
      "['False', 'None', 'True', 'and', 'as', 'assert', 'async', 'await', 'break', 'class', 'continue', 'def', 'del', 'elif', 'else', 'except', 'finally', 'for', 'from', 'global', 'if', 'import', 'in', 'is', 'lambda', 'nonlocal', 'not', 'or', 'pass', 'raise', 'return', 'try', 'while', 'with', 'yield']\n"
     ]
    }
   ],
   "source": [
    "print(keyword.kwlist)"
   ]
  },
  {
   "cell_type": "code",
   "execution_count": 51,
   "id": "c76a8f4f-95de-44d1-80d2-941dca0da0a2",
   "metadata": {},
   "outputs": [
    {
     "data": {
      "text/plain": [
       "35"
      ]
     },
     "execution_count": 51,
     "metadata": {},
     "output_type": "execute_result"
    }
   ],
   "source": [
    "len(keyword.kwlist)"
   ]
  },
  {
   "cell_type": "markdown",
   "id": "0db169fb-19ae-469e-99c9-82a6be306ad4",
   "metadata": {},
   "source": [
    "**identifiers**"
   ]
  },
  {
   "cell_type": "code",
   "execution_count": null,
   "id": "59ed2137-7d8e-4331-9dc5-9f8632e45b74",
   "metadata": {},
   "outputs": [],
   "source": [
    "An identifier is a name given to entities like class function variables etc..\n",
    "it helps to defferentiate one entity from other"
   ]
  },
  {
   "cell_type": "code",
   "execution_count": 52,
   "id": "ac9b9811-9713-4516-9fb6-48e556c641a5",
   "metadata": {},
   "outputs": [
    {
     "ename": "SyntaxError",
     "evalue": "invalid decimal literal (3884289996.py, line 1)",
     "output_type": "error",
     "traceback": [
      "\u001b[1;36m  Cell \u001b[1;32mIn[52], line 1\u001b[1;36m\u001b[0m\n\u001b[1;33m    1var=10 (**identifier cant start with a digit**)\u001b[0m\n\u001b[1;37m    ^\u001b[0m\n\u001b[1;31mSyntaxError\u001b[0m\u001b[1;31m:\u001b[0m invalid decimal literal\n"
     ]
    }
   ],
   "source": [
    "1var=10 #dentifier cant start with a digit"
   ]
  },
  {
   "cell_type": "code",
   "execution_count": 54,
   "id": "bcf869f0-4c6b-454c-a13a-14b09c95526e",
   "metadata": {},
   "outputs": [
    {
     "ename": "NameError",
     "evalue": "name 'val' is not defined",
     "output_type": "error",
     "traceback": [
      "\u001b[1;31m---------------------------------------------------------------------------\u001b[0m",
      "\u001b[1;31mNameError\u001b[0m                                 Traceback (most recent call last)",
      "Cell \u001b[1;32mIn[54], line 1\u001b[0m\n\u001b[1;32m----> 1\u001b[0m val\u001b[38;5;241m@\u001b[39m\u001b[38;5;241m13\u001b[39m\n",
      "\u001b[1;31mNameError\u001b[0m: name 'val' is not defined"
     ]
    }
   ],
   "source": [
    "val@13 #identifier cant use special charct symbols"
   ]
  },
  {
   "cell_type": "code",
   "execution_count": 53,
   "id": "1170b441-b2d9-4571-9cc4-3e7a8569d144",
   "metadata": {},
   "outputs": [
    {
     "ename": "SyntaxError",
     "evalue": "invalid syntax (285841627.py, line 1)",
     "output_type": "error",
     "traceback": [
      "\u001b[1;36m  Cell \u001b[1;32mIn[53], line 1\u001b[1;36m\u001b[0m\n\u001b[1;33m    import =24 #keywords cant be used as identifiers\u001b[0m\n\u001b[1;37m           ^\u001b[0m\n\u001b[1;31mSyntaxError\u001b[0m\u001b[1;31m:\u001b[0m invalid syntax\n"
     ]
    }
   ],
   "source": [
    "import =24 #keywords cant be used as identifiers"
   ]
  },
  {
   "cell_type": "code",
   "execution_count": 55,
   "id": "3ba7645f-df95-40f6-93d7-eebb804a5640",
   "metadata": {},
   "outputs": [],
   "source": [
    "#correct way of defining an identifier\n",
    "val2=99"
   ]
  },
  {
   "cell_type": "code",
   "execution_count": 56,
   "id": "eefaa115-16b9-4e10-8c98-bca152808b15",
   "metadata": {},
   "outputs": [],
   "source": [
    "val_=99"
   ]
  },
  {
   "cell_type": "code",
   "execution_count": null,
   "id": "0e4f7700-5771-4971-a609-ce196db8a088",
   "metadata": {},
   "outputs": [],
   "source": []
  },
  {
   "cell_type": "markdown",
   "id": "9174c46f-7da6-451e-9d41-98d272f33aa1",
   "metadata": {},
   "source": [
    "**COMMENTS IN PYTHON**"
   ]
  },
  {
   "cell_type": "code",
   "execution_count": 57,
   "id": "03f280b0-331f-4893-a4db-f58832c64931",
   "metadata": {},
   "outputs": [],
   "source": [
    "#SINGLE LINE COMMENT\n",
    "VAL1 = 10"
   ]
  },
  {
   "cell_type": "code",
   "execution_count": null,
   "id": "d990876a-8a65-4675-a2c3-d9023c44f7da",
   "metadata": {},
   "outputs": [],
   "source": [
    "#MULTIPLE\n",
    "#LINE\n",
    "#COMMENT\n",
    "VAL 1 = 10"
   ]
  },
  {
   "cell_type": "code",
   "execution_count": null,
   "id": "4d3e91a4-ccd7-494d-b563-894f63ad78b5",
   "metadata": {},
   "outputs": [],
   "source": [
    "'''MULTIPLE\n",
    "LINE \n",
    "COMMENT\n",
    "'''\n",
    "VAL1 = 10"
   ]
  },
  {
   "cell_type": "code",
   "execution_count": null,
   "id": "4e8830c4-0f8b-4874-9dcf-37c2a5c8c208",
   "metadata": {},
   "outputs": [],
   "source": [
    "\"\"\"\n",
    "MULTIPLE \n",
    "LINE\n",
    "COMMENT\n",
    "\"\"\" VAL1 = 10"
   ]
  },
  {
   "cell_type": "markdown",
   "id": "11a103c3-a0ca-4470-ac80-bdfaebec7d18",
   "metadata": {},
   "source": [
    "# STATEMENTS"
   ]
  },
  {
   "cell_type": "code",
   "execution_count": 59,
   "id": "f81a91a4-f037-47d8-b83b-0562cfe6ada5",
   "metadata": {},
   "outputs": [
    {
     "data": {
      "text/plain": [
       "(20, int, '0x7ffb454e2c18')"
      ]
     },
     "execution_count": 59,
     "metadata": {},
     "output_type": "execute_result"
    }
   ],
   "source": [
    "p = 20\n",
    "q = 20\n",
    "r = q\n",
    "p, type(p), hex(id(p))"
   ]
  },
  {
   "cell_type": "code",
   "execution_count": 60,
   "id": "7348f8d7-203a-423d-83c5-ea2388803bb8",
   "metadata": {},
   "outputs": [
    {
     "data": {
      "text/plain": [
       "(20, int, '0x7ffb454e2c18')"
      ]
     },
     "execution_count": 60,
     "metadata": {},
     "output_type": "execute_result"
    }
   ],
   "source": [
    "q, type(q), hex(id(q))"
   ]
  },
  {
   "cell_type": "code",
   "execution_count": 61,
   "id": "827cd721-f3c7-423f-8bce-6f3b8a33ddef",
   "metadata": {},
   "outputs": [
    {
     "data": {
      "text/plain": [
       "(20, int, '0x7ffb454e2c18')"
      ]
     },
     "execution_count": 61,
     "metadata": {},
     "output_type": "execute_result"
    }
   ],
   "source": [
    "r , type(r), hex(id(r))"
   ]
  },
  {
   "cell_type": "code",
   "execution_count": 62,
   "id": "d584b5cc-47b4-49cf-8f5d-f7a4bae4c082",
   "metadata": {},
   "outputs": [
    {
     "data": {
      "text/plain": [
       "30"
      ]
     },
     "execution_count": 62,
     "metadata": {},
     "output_type": "execute_result"
    }
   ],
   "source": [
    "p = 20\n",
    "p = p+ 10 #variable overwriting\n",
    "p"
   ]
  },
  {
   "cell_type": "markdown",
   "id": "b73993a8-251c-4527-819e-aa2d64d826a5",
   "metadata": {},
   "source": [
    "# variable assigment"
   ]
  },
  {
   "cell_type": "code",
   "execution_count": 63,
   "id": "67ce6916-3f18-4bae-96db-e9228098842e",
   "metadata": {},
   "outputs": [
    {
     "name": "stdout",
     "output_type": "stream",
     "text": [
      "10\n",
      "2.57\n",
      "python language\n"
     ]
    }
   ],
   "source": [
    "intvar   = 10 #integer variable\n",
    "floatvar = 2.57 #float variable\n",
    "strvar   = \"python language\" #string variable\n",
    "print(intvar)\n",
    "print(floatvar)\n",
    "print(strvar)"
   ]
  },
  {
   "cell_type": "markdown",
   "id": "cf5ef566-e95d-4fdc-aa0d-0764becba62d",
   "metadata": {},
   "source": [
    "# multiple assignments"
   ]
  },
  {
   "cell_type": "code",
   "execution_count": 64,
   "id": "47303678-76ad-49c9-b907-cd31989eb472",
   "metadata": {},
   "outputs": [
    {
     "name": "stdout",
     "output_type": "stream",
     "text": [
      "10\n",
      "2.57\n",
      "pyhton language\n"
     ]
    }
   ],
   "source": [
    "intvar , floatvar ,strvar =10,2.57, \"pyhton language\" \n",
    "print(intvar)\n",
    "print(floatvar)\n",
    "print(strvar)"
   ]
  },
  {
   "cell_type": "code",
   "execution_count": 65,
   "id": "23bb6c64-1c28-46fb-a565-48200bad1e74",
   "metadata": {},
   "outputs": [
    {
     "name": "stdout",
     "output_type": "stream",
     "text": [
      "44 44 44 44\n"
     ]
    }
   ],
   "source": [
    "p1=p2=p3=p4= 44\n",
    "print(p1,p2,p3,p4)"
   ]
  },
  {
   "cell_type": "markdown",
   "id": "b5f8141f-3b79-45c4-9b38-dbbd70546899",
   "metadata": {},
   "source": [
    "# data types"
   ]
  },
  {
   "cell_type": "markdown",
   "id": "fd33efc2-225a-4f86-aca5-2aa39818ec27",
   "metadata": {},
   "source": [
    "**numeric**"
   ]
  },
  {
   "cell_type": "code",
   "execution_count": 67,
   "id": "33a67c83-b887-403f-a724-8cff3bd9a936",
   "metadata": {},
   "outputs": [
    {
     "name": "stdout",
     "output_type": "stream",
     "text": [
      "10\n",
      "<class 'int'>\n",
      "28\n",
      "10 is integer? True\n"
     ]
    }
   ],
   "source": [
    "val1 = 10 #Integer data type\n",
    "print(val1)\n",
    "print(type(val1))\n",
    "print(sys.getsizeof(val1)) #size of integer obj in bytes\n",
    "print (val1, \"is integer?\", isinstance(val1,int))"
   ]
  },
  {
   "cell_type": "code",
   "execution_count": 68,
   "id": "2e9e4af4-8d40-4caf-b162-e0f853d90d1c",
   "metadata": {},
   "outputs": [
    {
     "name": "stdout",
     "output_type": "stream",
     "text": [
      "92.78\n",
      "<class 'float'>\n",
      "24\n",
      "92.78 is float? True\n"
     ]
    }
   ],
   "source": [
    "val2=92.78 #float data type\n",
    "print(val2)\n",
    "print(type(val2)) #size of float obj in bytes\n",
    "print(sys.getsizeof(val2))\n",
    "print(val2, \"is float?\", isinstance(val2,float))"
   ]
  },
  {
   "cell_type": "code",
   "execution_count": 71,
   "id": "91fa2dea-fe66-409c-92d0-99c45664a3be",
   "metadata": {},
   "outputs": [
    {
     "name": "stdout",
     "output_type": "stream",
     "text": [
      "(25+10j)\n",
      "<class 'complex'>\n",
      "32\n",
      "(25+10j) is complex? True\n"
     ]
    }
   ],
   "source": [
    "val3 = 25+ 10j #complex data type\n",
    "print(val3)\n",
    "print(type(val3))\n",
    "print(sys.getsizeof(val3))\n",
    "print(val3, \"is complex?\", isinstance(val3, complex))"
   ]
  },
  {
   "cell_type": "code",
   "execution_count": 72,
   "id": "3df61941-0103-45c2-8388-e6afcc62dbce",
   "metadata": {},
   "outputs": [
    {
     "data": {
      "text/plain": [
       "28"
      ]
     },
     "execution_count": 72,
     "metadata": {},
     "output_type": "execute_result"
    }
   ],
   "source": [
    " sys.getsizeof(int())"
   ]
  },
  {
   "cell_type": "code",
   "execution_count": 73,
   "id": "b4cb2c2c-e534-4eea-9bc6-487e6618ae7d",
   "metadata": {},
   "outputs": [
    {
     "data": {
      "text/plain": [
       "24"
      ]
     },
     "execution_count": 73,
     "metadata": {},
     "output_type": "execute_result"
    }
   ],
   "source": [
    "sys.getsizeof(float()) "
   ]
  },
  {
   "cell_type": "code",
   "execution_count": 78,
   "id": "c366464c-5189-4f1c-ac15-98e119d9cd8a",
   "metadata": {},
   "outputs": [
    {
     "data": {
      "text/plain": [
       "32"
      ]
     },
     "execution_count": 78,
     "metadata": {},
     "output_type": "execute_result"
    }
   ],
   "source": [
    "sys.getsizeof(complex())"
   ]
  },
  {
   "cell_type": "markdown",
   "id": "a82779b6-f429-48b9-a1fa-b72f4ffc31a8",
   "metadata": {},
   "source": [
    "# boolean"
   ]
  },
  {
   "cell_type": "markdown",
   "id": "65516d59-0543-453b-896d-9273b6ff0b71",
   "metadata": {},
   "source": [
    "boolean data type can hve only two possible values True or False"
   ]
  },
  {
   "cell_type": "code",
   "execution_count": 79,
   "id": "67188454-bd8c-4617-9a5c-4558b21552f4",
   "metadata": {},
   "outputs": [
    {
     "name": "stdout",
     "output_type": "stream",
     "text": [
      "<class 'bool'>\n"
     ]
    }
   ],
   "source": [
    "bool1 = True\n",
    "bool2 = False\n",
    "print(type(bool1))"
   ]
  },
  {
   "cell_type": "code",
   "execution_count": 80,
   "id": "039745d7-77ef-4c88-bd6c-e80288e06688",
   "metadata": {},
   "outputs": [
    {
     "name": "stdout",
     "output_type": "stream",
     "text": [
      "<class 'bool'>\n"
     ]
    }
   ],
   "source": [
    "print(type(bool2))"
   ]
  },
  {
   "cell_type": "code",
   "execution_count": 81,
   "id": "1a9a4958-ef49-4d26-91d9-daaf0120df76",
   "metadata": {},
   "outputs": [
    {
     "data": {
      "text/plain": [
       "True"
      ]
     },
     "execution_count": 81,
     "metadata": {},
     "output_type": "execute_result"
    }
   ],
   "source": [
    "isinstance(bool1,bool)"
   ]
  },
  {
   "cell_type": "code",
   "execution_count": 82,
   "id": "33a93804-57e2-43a9-8255-ff9d8012da52",
   "metadata": {},
   "outputs": [
    {
     "data": {
      "text/plain": [
       "False"
      ]
     },
     "execution_count": 82,
     "metadata": {},
     "output_type": "execute_result"
    }
   ],
   "source": [
    "bool(0)"
   ]
  },
  {
   "cell_type": "code",
   "execution_count": 83,
   "id": "3a926273-e0c2-4ae9-ab4b-929745fd1913",
   "metadata": {},
   "outputs": [
    {
     "data": {
      "text/plain": [
       "True"
      ]
     },
     "execution_count": 83,
     "metadata": {},
     "output_type": "execute_result"
    }
   ],
   "source": [
    "bool(1)"
   ]
  },
  {
   "cell_type": "code",
   "execution_count": 85,
   "id": "5f4fb36f-aca6-4b51-9a30-9de8b8ae2d8d",
   "metadata": {},
   "outputs": [
    {
     "data": {
      "text/plain": [
       "False"
      ]
     },
     "execution_count": 85,
     "metadata": {},
     "output_type": "execute_result"
    }
   ],
   "source": [
    "bool(None)"
   ]
  },
  {
   "cell_type": "code",
   "execution_count": 87,
   "id": "e3af986e-01c9-4611-9506-c61f9495fdfa",
   "metadata": {},
   "outputs": [
    {
     "data": {
      "text/plain": [
       "False"
      ]
     },
     "execution_count": 87,
     "metadata": {},
     "output_type": "execute_result"
    }
   ],
   "source": [
    "bool (False)"
   ]
  },
  {
   "cell_type": "markdown",
   "id": "6ca8fd0a-e2c2-4ced-a200-e199b875f889",
   "metadata": {},
   "source": [
    "# strings"
   ]
  },
  {
   "cell_type": "markdown",
   "id": "17df5f78-510b-47c3-83e0-9871a1e72803",
   "metadata": {},
   "source": [
    "**string creation**"
   ]
  },
  {
   "cell_type": "code",
   "execution_count": 95,
   "id": "0abd0850-d3d8-4fce-b82b-b0918a3d882d",
   "metadata": {},
   "outputs": [
    {
     "name": "stdout",
     "output_type": "stream",
     "text": [
      "HELLO PYTHON\n"
     ]
    }
   ],
   "source": [
    "str1 =\"HELLO PYTHON\"\n",
    "print(str1)"
   ]
  },
  {
   "cell_type": "code",
   "execution_count": 96,
   "id": "0230c77c-4db4-46f8-930c-884f6a4c9887",
   "metadata": {},
   "outputs": [
    {
     "name": "stdout",
     "output_type": "stream",
     "text": [
      "hello world\n"
     ]
    }
   ],
   "source": [
    "mystr ='hello world'\n",
    "print(mystr)"
   ]
  },
  {
   "cell_type": "code",
   "execution_count": 97,
   "id": "553cdf9b-29af-4d8d-b728-e624c56eb716",
   "metadata": {},
   "outputs": [
    {
     "name": "stdout",
     "output_type": "stream",
     "text": [
      "Hello \n",
      "        World\n"
     ]
    }
   ],
   "source": [
    "mystr ='''Hello \n",
    "        World'''\n",
    "print(mystr)"
   ]
  },
  {
   "cell_type": "code",
   "execution_count": 99,
   "id": "3f611268-4315-45b0-aff7-a2e11f3c51c2",
   "metadata": {},
   "outputs": [
    {
     "data": {
      "text/plain": [
       "'WOOHOOoooooWOOHOOoooooWOOHOOoooooWOOHOOoooooWOOHOOoooooWOOHOOooooo'"
      ]
     },
     "execution_count": 99,
     "metadata": {},
     "output_type": "execute_result"
    }
   ],
   "source": [
    "mystr2 = 'WOOHOOooooo'\n",
    "mystr2 =mystr2*6\n",
    "mystr2"
   ]
  },
  {
   "cell_type": "code",
   "execution_count": 100,
   "id": "498b3d78-2018-4824-950d-a0e446191a9d",
   "metadata": {},
   "outputs": [
    {
     "data": {
      "text/plain": [
       "66"
      ]
     },
     "execution_count": 100,
     "metadata": {},
     "output_type": "execute_result"
    }
   ],
   "source": [
    "len(mystr2) #length of string"
   ]
  },
  {
   "cell_type": "markdown",
   "id": "0303280a-23e2-4b61-b32f-fdd690143942",
   "metadata": {},
   "source": [
    "# indexing"
   ]
  },
  {
   "cell_type": "code",
   "execution_count": 101,
   "id": "a1a5397f-8c26-4813-b6f9-3403c6b76796",
   "metadata": {},
   "outputs": [
    {
     "data": {
      "text/plain": [
       "'HELLO PYTHON'"
      ]
     },
     "execution_count": 101,
     "metadata": {},
     "output_type": "execute_result"
    }
   ],
   "source": [
    "str1"
   ]
  },
  {
   "cell_type": "code",
   "execution_count": 102,
   "id": "8711efa9-03dd-456e-bfda-e98783bb6537",
   "metadata": {},
   "outputs": [
    {
     "data": {
      "text/plain": [
       "'H'"
      ]
     },
     "execution_count": 102,
     "metadata": {},
     "output_type": "execute_result"
    }
   ],
   "source": [
    "str1[0] #first charact in string \"str1\""
   ]
  },
  {
   "cell_type": "code",
   "execution_count": 103,
   "id": "b22c0a1b-b05d-449e-ac9d-cd147acd7ad7",
   "metadata": {},
   "outputs": [
    {
     "data": {
      "text/plain": [
       "'N'"
      ]
     },
     "execution_count": 103,
     "metadata": {},
     "output_type": "execute_result"
    }
   ],
   "source": [
    "str1[-1] #last char in str1"
   ]
  },
  {
   "cell_type": "code",
   "execution_count": 104,
   "id": "3d61b55d-0fb1-43b9-9b20-0a615eb3767f",
   "metadata": {},
   "outputs": [
    {
     "data": {
      "text/plain": [
       "'N'"
      ]
     },
     "execution_count": 104,
     "metadata": {},
     "output_type": "execute_result"
    }
   ],
   "source": [
    "str1[len(str1)-1] #last char in str len str"
   ]
  },
  {
   "cell_type": "code",
   "execution_count": 105,
   "id": "98a70127-3962-45dd-82cd-3eb42bc217d7",
   "metadata": {},
   "outputs": [
    {
     "data": {
      "text/plain": [
       "'P'"
      ]
     },
     "execution_count": 105,
     "metadata": {},
     "output_type": "execute_result"
    }
   ],
   "source": [
    "str1[6] #7th elemnt of str"
   ]
  },
  {
   "cell_type": "code",
   "execution_count": 108,
   "id": "a021da50-a5a3-4580-94dc-0bc87ef44e34",
   "metadata": {},
   "outputs": [
    {
     "data": {
      "text/plain": [
       "' '"
      ]
     },
     "execution_count": 108,
     "metadata": {},
     "output_type": "execute_result"
    }
   ],
   "source": [
    "str1[5]"
   ]
  },
  {
   "cell_type": "markdown",
   "id": "6f596abc-6064-4a89-adbe-46b3ed96ca99",
   "metadata": {},
   "source": [
    "# string slicing"
   ]
  },
  {
   "cell_type": "code",
   "execution_count": 109,
   "id": "3b8da55c-83fe-45f7-ae12-af71d5805bf0",
   "metadata": {},
   "outputs": [
    {
     "data": {
      "text/plain": [
       "'HELLO'"
      ]
     },
     "execution_count": 109,
     "metadata": {},
     "output_type": "execute_result"
    }
   ],
   "source": [
    "str1[0:5] #str slicing *fetch all char from 0to 5 index loctn"
   ]
  },
  {
   "cell_type": "code",
   "execution_count": 110,
   "id": "80fd94d0-478d-4cf4-ab1f-3b6666b7df85",
   "metadata": {},
   "outputs": [
    {
     "data": {
      "text/plain": [
       "'PYTHON'"
      ]
     },
     "execution_count": 110,
     "metadata": {},
     "output_type": "execute_result"
    }
   ],
   "source": [
    "str1[6:12]"
   ]
  },
  {
   "cell_type": "code",
   "execution_count": 111,
   "id": "c1ccd9a3-dba7-4cad-9038-0814e74e1323",
   "metadata": {},
   "outputs": [
    {
     "data": {
      "text/plain": [
       "'T'"
      ]
     },
     "execution_count": 111,
     "metadata": {},
     "output_type": "execute_result"
    }
   ],
   "source": [
    "str1[-4]"
   ]
  },
  {
   "cell_type": "code",
   "execution_count": 112,
   "id": "1a211f3a-ff04-4613-a301-7b7c613af1f6",
   "metadata": {},
   "outputs": [
    {
     "data": {
      "text/plain": [
       "'THON'"
      ]
     },
     "execution_count": 112,
     "metadata": {},
     "output_type": "execute_result"
    }
   ],
   "source": [
    "str1[-4:] #last 4 char of string"
   ]
  },
  {
   "cell_type": "code",
   "execution_count": 113,
   "id": "1763e445-7935-4af7-a936-94e2cc78dfa7",
   "metadata": {},
   "outputs": [
    {
     "data": {
      "text/plain": [
       "'PYTHON'"
      ]
     },
     "execution_count": 113,
     "metadata": {},
     "output_type": "execute_result"
    }
   ],
   "source": [
    "str1[-6:] #last 6 char of string"
   ]
  },
  {
   "cell_type": "code",
   "execution_count": 114,
   "id": "aaab510e-5804-4705-be3a-2637fbeb635a",
   "metadata": {},
   "outputs": [
    {
     "data": {
      "text/plain": [
       "'HELL'"
      ]
     },
     "execution_count": 114,
     "metadata": {},
     "output_type": "execute_result"
    }
   ],
   "source": [
    "str1[:4] #retreive first four char of str"
   ]
  },
  {
   "cell_type": "code",
   "execution_count": 116,
   "id": "9ce74298-3eda-4067-84b9-572cd1769486",
   "metadata": {},
   "outputs": [
    {
     "data": {
      "text/plain": [
       "'HELLO '"
      ]
     },
     "execution_count": 116,
     "metadata": {},
     "output_type": "execute_result"
    }
   ],
   "source": [
    "str1[:6]"
   ]
  },
  {
   "cell_type": "markdown",
   "id": "c3f1f547-abc4-4b36-96e4-81de56b242c5",
   "metadata": {},
   "source": [
    "# update and delete string"
   ]
  },
  {
   "cell_type": "code",
   "execution_count": 117,
   "id": "93c0180f-03b6-48aa-90cf-62cf907a5016",
   "metadata": {},
   "outputs": [
    {
     "data": {
      "text/plain": [
       "'HELLO PYTHON'"
      ]
     },
     "execution_count": 117,
     "metadata": {},
     "output_type": "execute_result"
    }
   ],
   "source": [
    "str1"
   ]
  },
  {
   "cell_type": "code",
   "execution_count": null,
   "id": "e7b9d0b0-23be-4367-a57d-7f61bf3664cb",
   "metadata": {},
   "outputs": [],
   "source": [
    "#strings are immutable which means  elements of a str cannot be chnged once entered"
   ]
  },
  {
   "cell_type": "code",
   "execution_count": 118,
   "id": "a3364c65-6593-446a-85e4-654ba298f134",
   "metadata": {},
   "outputs": [
    {
     "ename": "TypeError",
     "evalue": "'str' object does not support item assignment",
     "output_type": "error",
     "traceback": [
      "\u001b[1;31m---------------------------------------------------------------------------\u001b[0m",
      "\u001b[1;31mTypeError\u001b[0m                                 Traceback (most recent call last)",
      "Cell \u001b[1;32mIn[118], line 1\u001b[0m\n\u001b[1;32m----> 1\u001b[0m str1[\u001b[38;5;241m0\u001b[39m:\u001b[38;5;241m5\u001b[39m] \u001b[38;5;241m=\u001b[39m \u001b[38;5;124m'\u001b[39m\u001b[38;5;124mhola\u001b[39m\u001b[38;5;124m'\u001b[39m\n",
      "\u001b[1;31mTypeError\u001b[0m: 'str' object does not support item assignment"
     ]
    }
   ],
   "source": [
    "str1[0:5] = 'hola'"
   ]
  },
  {
   "cell_type": "code",
   "execution_count": 119,
   "id": "0139e9dc-203f-4a49-9ecd-c2b055d50aa2",
   "metadata": {},
   "outputs": [
    {
     "ename": "NameError",
     "evalue": "name 'str1' is not defined",
     "output_type": "error",
     "traceback": [
      "\u001b[1;31m---------------------------------------------------------------------------\u001b[0m",
      "\u001b[1;31mNameError\u001b[0m                                 Traceback (most recent call last)",
      "Cell \u001b[1;32mIn[119], line 2\u001b[0m\n\u001b[0;32m      1\u001b[0m \u001b[38;5;28;01mdel\u001b[39;00m str1\n\u001b[1;32m----> 2\u001b[0m \u001b[38;5;28mprint\u001b[39m(str1)\n",
      "\u001b[1;31mNameError\u001b[0m: name 'str1' is not defined"
     ]
    }
   ],
   "source": [
    " del str1\n",
    "print(str1)"
   ]
  },
  {
   "cell_type": "markdown",
   "id": "df2b1596-7257-4210-9bd9-d828460fc4ca",
   "metadata": {},
   "source": [
    "# string concatenation\n"
   ]
  },
  {
   "cell_type": "code",
   "execution_count": 121,
   "id": "4fd1dc98-2655-414b-b84f-e1273610ad2b",
   "metadata": {},
   "outputs": [
    {
     "name": "stdout",
     "output_type": "stream",
     "text": [
      "Hello saniya\n"
     ]
    }
   ],
   "source": [
    "#string concatenation\n",
    "s1 = \"Hello\"\n",
    "s2 = \" saniya\"\n",
    "s3 = s1 + s2\n",
    "print (s3)"
   ]
  },
  {
   "cell_type": "markdown",
   "id": "a7528dff-d018-4a49-9d91-694fdd6ba74c",
   "metadata": {},
   "source": []
  }
 ],
 "metadata": {
  "kernelspec": {
   "display_name": "Python 3 (ipykernel)",
   "language": "python",
   "name": "python3"
  },
  "language_info": {
   "codemirror_mode": {
    "name": "ipython",
    "version": 3
   },
   "file_extension": ".py",
   "mimetype": "text/x-python",
   "name": "python",
   "nbconvert_exporter": "python",
   "pygments_lexer": "ipython3",
   "version": "3.12.7"
  }
 },
 "nbformat": 4,
 "nbformat_minor": 5
}
